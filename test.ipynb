{
 "cells": [
  {
   "cell_type": "markdown",
   "metadata": {},
   "source": [
    "## Data preprocessing"
   ]
  },
  {
   "cell_type": "code",
   "execution_count": 1,
   "metadata": {},
   "outputs": [
    {
     "name": "stderr",
     "output_type": "stream",
     "text": [
      "/usr/lib/python3/dist-packages/scipy/__init__.py:146: UserWarning: A NumPy version >=1.17.3 and <1.25.0 is required for this version of SciPy (detected version 1.26.4\n",
      "  warnings.warn(f\"A NumPy version >={np_minversion} and <{np_maxversion}\"\n"
     ]
    }
   ],
   "source": [
    "import pandas as pd\n",
    "import numpy as np\n",
    "import matplotlib.pyplot as plt\n",
    "from scipy.stats import norm"
   ]
  },
  {
   "cell_type": "code",
   "execution_count": 2,
   "metadata": {},
   "outputs": [],
   "source": [
    "\"\"\" data_path = \"/home/onyx/Documents/MEMOIRE/memoire/data/sales_train_evaluation.csv\"\n",
    "pkl_path = \"/home/onyx/Documents/MEMOIRE/memoire/data/sales_train_evaluation.pkl\" \"\"\"\n",
    "data_path = \"/home/onyx/Documents/Mémoire/memoire/data/sales_train_evaluation.csv\"\n",
    "pkl_path = \"/home/onyx/Documents/Mémoire/memoire/data/sales_train_evaluation.pkl\"\n",
    "\n",
    "alpha = [0.5, 0.6, 0.7, 0.8, 0.9, 0.95, 0.975, 0.99]"
   ]
  },
  {
   "cell_type": "code",
   "execution_count": 3,
   "metadata": {},
   "outputs": [
    {
     "data": {
      "text/plain": [
       "' forecast_functions = [\\n    FC_avg_3_days,\\n    FC_avg_7_days,\\n    FC_avg_4_same_days\\n]\\n\\nup_to_level_functions = [\\n\\n]\\n\\nsafety_stock_functions = [\\n\\n] '"
      ]
     },
     "execution_count": 3,
     "metadata": {},
     "output_type": "execute_result"
    }
   ],
   "source": [
    "\"\"\" forecast_functions = [\n",
    "    FC_avg_3_days,\n",
    "    FC_avg_7_days,\n",
    "    FC_avg_4_same_days\n",
    "]\n",
    "\n",
    "up_to_level_functions = [\n",
    "\n",
    "]\n",
    "\n",
    "safety_stock_functions = [\n",
    "\n",
    "] \"\"\""
   ]
  },
  {
   "cell_type": "code",
   "execution_count": 4,
   "metadata": {},
   "outputs": [],
   "source": [
    "def load_data(csv_path: str, pkl_path: str) -> pd.DataFrame:\n",
    "    \"\"\"\n",
    "    Load the CSV file, save it as a pickle file, and then reload it.\n",
    "    \n",
    "    Parameters:\n",
    "        csv_path (str): Path to the CSV file.\n",
    "        pkl_path (str): Path where the pickle file will be saved.\n",
    "    \n",
    "    Returns:\n",
    "        pd.DataFrame: Loaded DataFrame.\n",
    "    \"\"\"\n",
    "    df = pd.read_csv(csv_path)\n",
    "    df.to_pickle(pkl_path)\n",
    "    df = pd.read_pickle(pkl_path)\n",
    "    return df"
   ]
  },
  {
   "cell_type": "code",
   "execution_count": 5,
   "metadata": {},
   "outputs": [],
   "source": [
    "def scraping_high_zeroes_products(df: pd.DataFrame) -> pd.DataFrame:\n",
    "    # Count the number of zeroes in each row\n",
    "    df['zero_count'] = (df == 0).sum(axis=1)\n",
    "    \n",
    "    # Sort the DataFrame by the number of zeroes in ascending order\n",
    "    df_sorted = df.sort_values(by='zero_count')\n",
    "    \n",
    "    # Keep only the top 1000 rows with the least number of zeroes\n",
    "    df_top_2000 = df_sorted.head(1000)\n",
    "    \n",
    "    # Drop the 'zero_count' column as it is no longer needed\n",
    "    df_top_2000 = df_top_2000.drop(columns=['zero_count'])\n",
    "    \n",
    "    return df_top_2000\n",
    "\n",
    "def preprocess_data(df: pd.DataFrame) -> pd.DataFrame:\n",
    "    \"\"\"\n",
    "    Preprocess the DataFrame by removing unnecessary columns and converting\n",
    "    the demand columns to numeric types.\n",
    "    \n",
    "    Parameters:\n",
    "        df (pd.DataFrame): Original DataFrame.\n",
    "    \n",
    "    Returns:\n",
    "        pd.DataFrame: Demand matrix with product 'id' as index and days as columns.\n",
    "    \"\"\"\n",
    "    # Remove unnecessary columns\n",
    "    df_demand = df.drop(columns=['item_id', 'dept_id', 'cat_id', 'store_id', 'state_id'])\n",
    "    # Set 'id' as index\n",
    "    demand_matrix = df_demand.set_index('id')\n",
    "\n",
    "    # Load the calendar.csv file\n",
    "    calendar = pd.read_csv('/home/onyx/Documents/Mémoire/memoire/data/calendar.csv')\n",
    "\n",
    "    # Get the date columns from the calendar dataframe\n",
    "    date_columns = calendar['date']\n",
    "    demand_matrix.columns = date_columns[0:demand_matrix.shape[1]]\n",
    "    \n",
    "    \n",
    "    return demand_matrix\n",
    "\n",
    "def analyse_data(df: pd.DataFrame) -> [pd.Series, pd.Series]:\n",
    "    means = df.mean(axis=1)\n",
    "    stds = df.std(axis=1)\n",
    "    import numpy as np\n",
    "\n",
    "    # Assuming your data is stored in a variable called 'data'\n",
    "    sd = np.std(df)\n",
    "    filtered_data = df[df <= 2 * sd]\n",
    "\n",
    "    # Create the histogram\n",
    "    plt.hist(filtered_data.values.flatten(), bins=50)\n",
    "    mean = means.mean()\n",
    "\n",
    "    plt.axvline(x=mean, color='red', linestyle='--')\n",
    "    plt.text(mean, 0, 'mu', color='red', verticalalignment='bottom')\n",
    "\n",
    "    # Set the labels and title\n",
    "    plt.xlabel('Values')\n",
    "    plt.ylabel('Frequency')\n",
    "    plt.title('Histogram of Values in the demand')\n",
    "\n",
    "    # Display the histogram\n",
    "    plt.show()\n",
    "    return means, stds\n",
    "\n"
   ]
  },
  {
   "cell_type": "code",
   "execution_count": null,
   "metadata": {},
   "outputs": [],
   "source": []
  },
  {
   "cell_type": "code",
   "execution_count": 6,
   "metadata": {},
   "outputs": [
    {
     "data": {
      "text/plain": [
       "' means, stds = analyse_data(demand_matrix)\\n\\ninv_matrix = norm.ppf(0.95, means.values, stds.values)\\n\\ndatadddd = pd.DataFrame(\\n    np.ceil(np.repeat(inv_matrix[:, np.newaxis], demand_matrix.shape[1], axis=1)),\\n    columns=demand_matrix.columns,\\n    index=demand_matrix.index\\n)\\n\\n '"
      ]
     },
     "execution_count": 6,
     "metadata": {},
     "output_type": "execute_result"
    }
   ],
   "source": [
    "\"\"\" means, stds = analyse_data(demand_matrix)\n",
    "\n",
    "inv_matrix = norm.ppf(0.95, means.values, stds.values)\n",
    "\n",
    "datadddd = pd.DataFrame(\n",
    "    np.ceil(np.repeat(inv_matrix[:, np.newaxis], demand_matrix.shape[1], axis=1)),\n",
    "    columns=demand_matrix.columns,\n",
    "    index=demand_matrix.index\n",
    ")\n",
    "\n",
    " \"\"\""
   ]
  },
  {
   "cell_type": "code",
   "execution_count": 7,
   "metadata": {},
   "outputs": [
    {
     "data": {
      "text/plain": [
       "' df= load_data(data_path, pkl_path)\\ndf2 = scraping_high_zeroes_products(df)\\ndemand_matrix = preprocess_data(df2) '"
      ]
     },
     "execution_count": 7,
     "metadata": {},
     "output_type": "execute_result"
    }
   ],
   "source": [
    "\"\"\" df= load_data(data_path, pkl_path)\n",
    "df2 = scraping_high_zeroes_products(df)\n",
    "demand_matrix = preprocess_data(df2) \"\"\""
   ]
  },
  {
   "cell_type": "markdown",
   "metadata": {},
   "source": [
    "# Forecast Computing"
   ]
  },
  {
   "cell_type": "markdown",
   "metadata": {},
   "source": [
    "Forecast computed on the average of the three lasts day sales"
   ]
  },
  {
   "cell_type": "code",
   "execution_count": 8,
   "metadata": {},
   "outputs": [],
   "source": [
    "def FC_avg_3_days(demand_matrix: pd.DataFrame) -> pd.DataFrame:\n",
    "    \"\"\"\n",
    "    Compute the forecast by averaging the last 3 days for each product.\n",
    "    \n",
    "    Parameters:\n",
    "        demand_matrix (pd.DataFrame): Demand matrix.\n",
    "    \n",
    "    Returns:\n",
    "        pd.DataFrame: Forecast matrix (rounded up).\n",
    "    \"\"\"\n",
    "    forecast_matrix = demand_matrix.T.rolling(window=3).mean().shift(1).T\n",
    "    return forecast_matrix\n",
    "\n",
    "def FC_avg_7_days(demand_matrix: pd.DataFrame) -> pd.DataFrame:\n",
    "    \"\"\"\n",
    "    Compute the forecast by averaging the last 7 days for each product.\n",
    "    \n",
    "    Parameters:\n",
    "        demand_matrix (pd.DataFrame): Demand matrix.\n",
    "    \n",
    "    Returns:\n",
    "        pd.DataFrame: Forecast matrix (rounded up).\n",
    "    \"\"\"\n",
    "    forecast_matrix = demand_matrix.T.rolling(window=7).mean().shift(1).T\n",
    "    return forecast_matrix\n",
    "\n",
    "def FC_avg_30_days(demand_matrix: pd.DataFrame) -> pd.DataFrame:\n",
    "    \"\"\"\n",
    "    Compute the forecast by averaging the last 30 days for each product.\n",
    "    \n",
    "    Parameters:\n",
    "        demand_matrix (pd.DataFrame): Demand matrix.\n",
    "    \n",
    "    Returns:\n",
    "        pd.DataFrame: Forecast matrix (rounded up).\n",
    "    \"\"\"\n",
    "    forecast_matrix = demand_matrix.T.rolling(window=30).mean().shift(1).T\n",
    "    return forecast_matrix\n",
    "\n",
    "def FC_avg_4_same_days(demand_matrix: pd.DataFrame) -> pd.DataFrame:\n",
    "    \"\"\"\n",
    "    Compute the forecast by averaging the same day of the week over the previous 4 weeks for each product.\n",
    "    \n",
    "    Parameters:\n",
    "        demand_matrix (pd.DataFrame): Demand matrix.\n",
    "    \n",
    "    Returns:\n",
    "        pd.DataFrame: Weekly forecast matrix (rounded up).\n",
    "    \"\"\"\n",
    "    demand_np = demand_matrix.to_numpy()\n",
    "    n_products, n_days = demand_np.shape\n",
    "    weekly_forecast_np = np.full((n_products, n_days), np.nan)\n",
    "    \n",
    "    # For each day of the week (offset from 0 to 6)\n",
    "    for offset in range(7):\n",
    "        idx = np.arange(offset, n_days, 7)\n",
    "        # Need at least 5 weeks to use the previous 4 weeks\n",
    "        if len(idx) < 5:\n",
    "            continue\n",
    "        # Create a sliding window view for the previous 4 weeks\n",
    "        slices = np.stack([demand_np[:, idx[i: i + len(idx) - 4]] for i in range(4)], axis=-1)\n",
    "        rolling_mean = np.mean(slices, axis=-1)\n",
    "        target_indices = idx[4:]  # Days to forecast\n",
    "        weekly_forecast_np[:, target_indices] = rolling_mean\n",
    "        \n",
    "    weekly_forecast_matrix = pd.DataFrame(\n",
    "        weekly_forecast_np,\n",
    "        index=demand_matrix.index,\n",
    "        columns=demand_matrix.columns\n",
    "    )\n",
    "    return weekly_forecast_matrix"
   ]
  },
  {
   "cell_type": "code",
   "execution_count": null,
   "metadata": {},
   "outputs": [],
   "source": []
  },
  {
   "cell_type": "markdown",
   "metadata": {},
   "source": [
    "# Safety stock"
   ]
  },
  {
   "cell_type": "code",
   "execution_count": 9,
   "metadata": {},
   "outputs": [],
   "source": [
    "def SS_cst(demand_matrix: pd.DataFrame, forecast_matrix: pd.DataFrame, safety_stock_value: int) -> pd.DataFrame:\n",
    "    \"\"\"\n",
    "    Create a safety stock matrix with a constant integer value for each product and each day.\n",
    "    \n",
    "    Parameters:\n",
    "        demand_matrix (pd.DataFrame): Demand matrix with product index and days as columns.\n",
    "        safety_stock_value (int): The safety stock level to assign.\n",
    "    \n",
    "    Returns:\n",
    "        pd.DataFrame: Safety stock matrix with the same shape as demand_matrix, filled with safety_stock_value.\n",
    "    \"\"\"\n",
    "    safety_stock_matrix = pd.DataFrame(\n",
    "        safety_stock_value,\n",
    "        index=demand_matrix.index,\n",
    "        columns=demand_matrix.columns\n",
    "    )\n",
    "    return safety_stock_matrix\n",
    "\n",
    "def SS_on_forecast(demand_matrix: pd.DataFrame, forecast_matrix: pd.DataFrame, safety_stock_factor: int) -> pd.DataFrame:\n",
    "    \"\"\"\n",
    "    Create a safety stock matrix constituted of the n+3 day of forecast times the safety_stock_factor.\n",
    "\n",
    "    Parameters:\n",
    "        demand_matrix (pd.DataFrame): Demand matrix with product index and days as columns.\n",
    "        safety_stock_factor: The factor to apply to the forecasted demand.\n",
    "\n",
    "    Returns:\n",
    "        pd.DataFrame: Safety stock matrix with the same shape as demand_matrix, filled with safety_stock_value.\n",
    "    \"\"\"\n",
    "    safety_stock_matrix = pd.DataFrame(\n",
    "        safety_stock_factor * forecast_matrix.shift(-3, axis=1).values,\n",
    "        index=demand_matrix.index,\n",
    "        columns=demand_matrix.columns\n",
    "    )\n",
    "    return safety_stock_matrix\n"
   ]
  },
  {
   "cell_type": "markdown",
   "metadata": {},
   "source": [
    "# Up-to-level"
   ]
  },
  {
   "cell_type": "code",
   "execution_count": 10,
   "metadata": {},
   "outputs": [
    {
     "data": {
      "text/plain": [
       "' df = load_data(data_path, pkl_path)\\ndf = scraping_high_zeroes_products(df)\\ndemand_matrix = preprocess_data(df)\\ntest_df = demand_matrix.iloc[:5, :15] '"
      ]
     },
     "execution_count": 10,
     "metadata": {},
     "output_type": "execute_result"
    }
   ],
   "source": [
    "\"\"\" df = load_data(data_path, pkl_path)\n",
    "df = scraping_high_zeroes_products(df)\n",
    "demand_matrix = preprocess_data(df)\n",
    "test_df = demand_matrix.iloc[:5, :15] \"\"\""
   ]
  },
  {
   "cell_type": "code",
   "execution_count": 11,
   "metadata": {},
   "outputs": [],
   "source": [
    "def up_to_level_optimal_restock(demand_matrix, forecast_matrix: pd.DataFrame, safety_stock_matrix: pd.DataFrame, X, min_fill_rate):\n",
    "    \"\"\"\n",
    "    Find the optimal fixed restock level that reaches the minimal fill rate.\n",
    "    \n",
    "    Parameters:\n",
    "        min_fill_rate (float): The minimum fill rate to achieve.\n",
    "    \n",
    "    Returns:\n",
    "        int: The optimal fixed restock level.\n",
    "    \"\"\"\n",
    "    demand = demand_matrix.to_numpy()\n",
    "    up_to_level = np.ones(demand_matrix.shape)\n",
    "    _, _, _, _, _, lost_sales = compute_stock(up_to_level, demand)\n",
    "    fill_rates_per_product = compute_fill_rates_per_product(lost_sales, demand)\n",
    "\n",
    "    while not (fill_rates_per_product > min_fill_rate).all():\n",
    "        _, _, _, _, _, lost_sales = compute_stock(up_to_level, demand)\n",
    "        fill_rates_per_product = compute_fill_rates_per_product(lost_sales, demand)\n",
    "        goods = np.where(fill_rates_per_product <= min_fill_rate)\n",
    "        up_to_level[goods] += 1\n",
    "    \n",
    "    \n",
    "    return pd.DataFrame(up_to_level, index=demand_matrix.index, columns=demand_matrix.columns)\n",
    "\n",
    "def compute_fill_rates_per_product(lost_sales, demand):\n",
    "    \"\"\"Compute the fill rate for each product\n",
    "    \n",
    "    Parameters:\n",
    "        lost_sales (ndarray): Numpy array of lost sales.\n",
    "        demand (ndarray): Numpy array of demand.\n",
    "        \n",
    "    Returns:\n",
    "        ndarray: Numpy array of fill rates.\n",
    "    \"\"\"\n",
    "    return 1 - lost_sales.sum(axis=1) / demand.sum(axis=1)\n",
    "    "
   ]
  },
  {
   "cell_type": "code",
   "execution_count": 26,
   "metadata": {},
   "outputs": [],
   "source": [
    "def up_to_level_3_next_days(demand_matrix, forecast_matrix: pd.DataFrame, safety_stock_matrix: pd.DataFrame, X, min_fill_rate):\n",
    "    \"\"\"\n",
    "    Compute the forecast by summing the demand of the next 3 days for each product.\n",
    "    \n",
    "    Parameters:\n",
    "        demand_matrix (pd.DataFrame): Demand matrix.\n",
    "    \n",
    "    Returns:\n",
    "        pd.DataFrame: Forecast matrix (rounded up).\n",
    "    \"\"\"\n",
    "    up_to_level_matrix = forecast_matrix.T.shift(-2).rolling(window=3).sum().T\n",
    "    up_to_level_matrix += safety_stock_matrix\n",
    "    return np.ceil(up_to_level_matrix)\n",
    "\n",
    "def up_to_level_fixed_X(demand_matrix, forecast_matrix: pd.DataFrame, safety_stock_matrix: pd.DataFrame, X, min_fill_rate):\n",
    "    ones = np.ones(demand_matrix.shape)\n",
    "    up_to_level = ones * X\n",
    "    up_to_level_matrix = pd.DataFrame(up_to_level, index=demand_matrix.index, columns=demand_matrix.columns)\n",
    "\n",
    "    return up_to_level_matrix\n"
   ]
  },
  {
   "cell_type": "code",
   "execution_count": 13,
   "metadata": {},
   "outputs": [],
   "source": [
    "def up_to_level_normal_demand(demand_matrix, forecast_matrix: pd.DataFrame, safety_stock_matrix: pd.DataFrame, X, min_fill_rate):\n",
    "    \n",
    "    means, stds = analyse_data(demand_matrix)\n",
    "\n",
    "    inv_matrix = norm.ppf(min_fill_rate, means.values, stds.values)\n",
    "\n",
    "    up_to_level_matrix = pd.DataFrame(\n",
    "        np.ceil(np.repeat(inv_matrix[:, np.newaxis], demand_matrix.shape[1], axis=1)),\n",
    "        columns=demand_matrix.columns,\n",
    "        index=demand_matrix.index\n",
    "        )\n",
    "    \n",
    "    return up_to_level_matrix\n"
   ]
  },
  {
   "cell_type": "markdown",
   "metadata": {},
   "source": [
    "# Inventory"
   ]
  },
  {
   "cell_type": "code",
   "execution_count": 41,
   "metadata": {},
   "outputs": [],
   "source": [
    "def compute_stock(up_to_level, demand, order_rate=1):\n",
    "    \"\"\"\n",
    "    Compute various stock management indicators:\n",
    "      - inventory_begin: stock at the beginning of the day\n",
    "      - inventory_end: stock at the end of the day\n",
    "      - T1: stock arriving in 1 day\n",
    "      - T2: stock arriving in 2 days\n",
    "      - sales: actual sales\n",
    "      - lost_sales: unmet demand (lost sales)\n",
    "    \n",
    "    Parameters:\n",
    "        demand_matrix (pd.DataFrame): Demand matrix.\n",
    "        up_to_level_matrix (pd.DataFrame): Matrix of levels to reach.\n",
    "        initial_inventory (int): Initial inventory at day 0.\n",
    "    \n",
    "    Returns:\n",
    "        tuple of pd.DataFrame: DataFrames for inventory_begin, inventory_end, T1, T2, sales, and lost_sales.\n",
    "    \"\"\"\n",
    "\n",
    "    \"\"\" # Conversion vers arrays\n",
    "    demand = demand_matrix.to_numpy()\n",
    "    up_to_level = up_to_level_matrix.to_numpy()\n",
    "    # Ensure no NaN values in the matrices \"\"\"\n",
    "    np.nan_to_num(up_to_level, copy=False)\n",
    "\n",
    "    n_products, n_days = demand.shape\n",
    "\n",
    "    # Initialisation des arrays\n",
    "    inventory_begin = np.zeros_like(demand)\n",
    "    inventory_end = np.zeros_like(demand)\n",
    "    T1 = np.zeros_like(demand)\n",
    "    T2 = np.zeros_like(demand)\n",
    "    sales = np.zeros_like(demand)\n",
    "    lost_sales = np.zeros_like(demand)\n",
    "\n",
    "    # Initialisation jour 0\n",
    "    inventory_begin[:, 0] = 5\n",
    "    T1[:, 0] = 0\n",
    "    T2[:, 0] = up_to_level[:, 0] - inventory_begin[:, 0]\n",
    "    inventory_end[:, 0] = np.maximum(inventory_begin[:, 0] - demand[:, 0], 0)\n",
    "    sales[:, 0] = inventory_begin[:, 0] - inventory_end[:, 0]\n",
    "    lost_sales[:, 0] = np.maximum(demand[:, 0] - sales[:, 0], 0)\n",
    "\n",
    "    # Boucle vectorisée jour par jour\n",
    "    for day in range(1, n_days):\n",
    "        T1[:, day] = T2[:, day - 1]\n",
    "        inventory_begin[:, day] = inventory_end[:, day - 1] + T1[:, day - 1]\n",
    "        inventory_end[:, day] = np.maximum(inventory_begin[:, day] - demand[:, day], 0)\n",
    "        if(day%order_rate == 0):\n",
    "            T2[:, day] = np.nan_to_num(np.maximum(up_to_level[:, day] - inventory_end[:, day] - T1[:, day], 0))\n",
    "        sales[:, day] = inventory_begin[:, day] - inventory_end[:, day]\n",
    "        lost_sales[:, day] = np.maximum(demand[:, day] - sales[:, day], 0)\n",
    "\n",
    "    \"\"\" # Reconvertir en DataFrames si besoin\n",
    "    columns = demand_matrix.columns\n",
    "    index = demand_matrix.index\n",
    "\n",
    "    inventory_begin_matrix = pd.DataFrame(inventory_begin, index=index, columns=columns)\n",
    "    inventory_end_matrix = pd.DataFrame(inventory_end, index=index, columns=columns)\n",
    "    T1_matrix = pd.DataFrame(T1, index=index, columns=columns)\n",
    "    T2_matrix = pd.DataFrame(T2, index=index, columns=columns)\n",
    "    sales_matrix = pd.DataFrame(sales, index=index, columns=columns)\n",
    "    lost_sales_matrix = pd.DataFrame(lost_sales, index=index, columns=columns) \"\"\"\n",
    "\n",
    "    return inventory_begin, inventory_end, T1, T2, sales, lost_sales\n",
    "\n",
    "#inventory_begin, inventory_end, _, _, _, lost_sales = compute_stock(up_to_level_matrix.to_numpy(), demand_matrix.to_numpy())\n"
   ]
  },
  {
   "cell_type": "code",
   "execution_count": null,
   "metadata": {},
   "outputs": [],
   "source": []
  },
  {
   "cell_type": "markdown",
   "metadata": {},
   "source": [
    "# Performance metrics"
   ]
  },
  {
   "cell_type": "code",
   "execution_count": 15,
   "metadata": {},
   "outputs": [],
   "source": [
    "def compute_results(demand, lost_sales, inventory_begin, inventory_end, n_days):\n",
    "    \"\"\"\n",
    "    Compute overall stock management metrics:\n",
    "      - Fill rate\n",
    "      - Average inventory\n",
    "      - Ratio of days with perfect service (no lost sales)\n",
    "    \n",
    "    Parameters:\n",
    "        demand_matrix (pd.DataFrame): Demand matrix.\n",
    "        forecast_matrix (pd.DataFrame): Forecast matrix.\n",
    "        up_to_level_matrix (pd.DataFrame): Matrix of levels to reach.\n",
    "    \n",
    "    Returns:\n",
    "        dict: Dictionary containing the results.\n",
    "    \"\"\"\n",
    "\n",
    "    fill_rate = 1 - lost_sales.sum().sum() / demand.sum().sum()\n",
    "    avg_inventory = (inventory_begin.sum().sum() + inventory_end.sum().sum()) / 2 // n_days\n",
    "    # Compute the average percentage of products containing lost sales per day\n",
    "    products_with_lost_sales = (lost_sales > 0).sum(axis=0)/lost_sales.shape[0]\n",
    "    average_percentage_lost_sales = products_with_lost_sales.mean()\n",
    "    \n",
    "    return fill_rate, avg_inventory, average_percentage_lost_sales"
   ]
  },
  {
   "cell_type": "code",
   "execution_count": 16,
   "metadata": {},
   "outputs": [],
   "source": [
    "def compute_fill_rates_per_product(lost_sales, demand):\n",
    "    \"\"\"Compute the fill rate for each product\n",
    "    \n",
    "    Parameters:\n",
    "        lost_sales (ndarray): Numpy array of lost sales.\n",
    "        demand (ndarray): Numpy array of demand.\n",
    "        \n",
    "    Returns:\n",
    "        ndarray: Numpy array of fill rates.\n",
    "    \"\"\"\n",
    "    return 1 - lost_sales.sum(axis=1) / demand.sum(axis=1)"
   ]
  },
  {
   "cell_type": "markdown",
   "metadata": {},
   "source": [
    "# Plots"
   ]
  },
  {
   "cell_type": "code",
   "execution_count": 17,
   "metadata": {},
   "outputs": [],
   "source": [
    "def plot_stocks(demand_matrix, forecast_matrix, lost_sales, inventory_begin, inventory_end):\n",
    "    \n",
    "    # Transform in pd.DataFrame\n",
    "    lost_sales_matrix = pd.DataFrame(lost_sales, index=demand_matrix.index, columns=demand_matrix.columns)\n",
    "    inventory_begin_matrix = pd.DataFrame(inventory_begin, index=demand_matrix.index, columns=demand_matrix.columns)\n",
    "    inventory_end_matrix = pd.DataFrame(inventory_end, index=demand_matrix.index, columns=demand_matrix.columns)\n",
    "\n",
    "    # Scrap the first 7 days for the plot  \n",
    "    demand_matrix = demand_matrix.iloc[:, 7:]\n",
    "    forecast_matrix = forecast_matrix.iloc[:, 7:]\n",
    "    lost_sales_matrix = lost_sales_matrix.iloc[:, 7:]\n",
    "    inventory_begin_matrix = inventory_begin_matrix.iloc[:, 7:]\n",
    "    inventory_end_matrix = inventory_end_matrix.iloc[:, 7:]\n",
    "    \n",
    "    # Agrégation\n",
    "    total_demand = demand_matrix.sum(axis=0)\n",
    "    total_forecast = forecast_matrix.sum(axis=0)\n",
    "    total_inventory = (inventory_begin_matrix.sum(axis=0) + inventory_end_matrix.sum(axis=0)) / 2\n",
    "    total_lost_sales = lost_sales_matrix.sum(axis=0)\n",
    "\n",
    "    # Paramètres de style\n",
    "    #plt.style.use('seaborn-whitegrid')\n",
    "    plt.figure(figsize=(15, 6))\n",
    "\n",
    "    # Tracés\n",
    "    plt.plot(total_demand, label='Demand', color='dodgerblue', linewidth=1.5)\n",
    "    plt.plot(total_forecast, label='Forecast', color='orangered', linewidth=1.5)\n",
    "    plt.plot(total_lost_sales, label='Lost Sales', color='limegreen', linewidth=1.2)\n",
    "    plt.plot(total_inventory, label='Average Inventory', color='saddlebrown', linewidth=1.5)\n",
    "\n",
    "    # Améliorations visuelles\n",
    "    plt.title('Daily Aggregated Metrics', fontsize=16, fontweight='bold')\n",
    "    plt.xlabel('Day', fontsize=12)\n",
    "    plt.ylabel('Units', fontsize=12)\n",
    "    plt.xticks(rotation=45)\n",
    "    plt.tick_params(axis='x', labelsize=8)\n",
    "    plt.grid(True, linestyle='--', alpha=0.6)\n",
    "    plt.legend(loc='upper right', frameon=True, framealpha=0.9)\n",
    "\n",
    "    # Limiter les xticks pour lisibilité\n",
    "    xtick_interval = 60  # afficher 1 tick tous les 60 jours\n",
    "    plt.xticks(ticks=range(0, len(total_demand), xtick_interval),\n",
    "            labels=total_demand.index[::xtick_interval], rotation=45)\n",
    "\n",
    "    plt.tight_layout()\n",
    "    plt.show()\n",
    "    \n",
    "    \n",
    "def plot_smooth_n_days(demand_matrix, forecast_matrix, lost_sales, inventory_begin, inventory_end, rolling_window):\n",
    "    # Transform in pd.DataFrame\n",
    "    lost_sales_matrix = pd.DataFrame(lost_sales, index=demand_matrix.index, columns=demand_matrix.columns)\n",
    "    inventory_begin_matrix = pd.DataFrame(inventory_begin, index=demand_matrix.index, columns=demand_matrix.columns)\n",
    "    inventory_end_matrix = pd.DataFrame(inventory_end, index=demand_matrix.index, columns=demand_matrix.columns)\n",
    "\n",
    "    # Scrap the first 7 days for the plot  \n",
    "    demand_matrix = demand_matrix.iloc[:, 7:]\n",
    "    forecast_matrix = forecast_matrix.iloc[:, 7:]\n",
    "    lost_sales_matrix = lost_sales_matrix.iloc[:, 7:]\n",
    "    inventory_begin_matrix = inventory_begin_matrix.iloc[:, 7:]\n",
    "    inventory_end_matrix = inventory_end_matrix.iloc[:, 7:]\n",
    "\n",
    "    # Agrégation\n",
    "    total_demand = demand_matrix.sum(axis=0)\n",
    "    total_forecast = forecast_matrix.sum(axis=0)\n",
    "    total_inventory = (inventory_begin_matrix.sum(axis=0) + inventory_end_matrix.sum(axis=0)) / 2\n",
    "    total_lost_sales = lost_sales_matrix.sum(axis=0)\n",
    "\n",
    "    # Moyennes glissantes (n jours)\n",
    "    smoothed_demand = total_demand.rolling(window=rolling_window).mean()\n",
    "    smoothed_forecast = total_forecast.rolling(window=rolling_window).mean()\n",
    "    smoothed_inventory = total_inventory.rolling(window=rolling_window).mean()\n",
    "    smoothed_lost_sales = total_lost_sales.rolling(window=rolling_window).mean()\n",
    "    \n",
    "    \n",
    "    # Paramètres de style\n",
    "    #plt.style.use('seaborn-whitegrid')\n",
    "    plt.figure(figsize=(15, 6))\n",
    "\n",
    "    # Tracés\n",
    "    plt.plot(smoothed_demand, label='Demand (Smoothed)', color='dodgerblue')\n",
    "    plt.plot(smoothed_forecast, label='Forecast (Smoothed)', color='orangered')\n",
    "    plt.plot(smoothed_lost_sales, label='Lost Sales (Smoothed)', color='limegreen')\n",
    "    plt.plot(smoothed_inventory, label='Avg Inventory (Smoothed)', color='saddlebrown')\n",
    "\n",
    "    # Améliorations visuelles\n",
    "    plt.title('Smoothed Metrics ('+str(rolling_window)+'-Day Rolling)', fontsize=16, fontweight='bold')\n",
    "    plt.xlabel('Day', fontsize=12)\n",
    "    plt.ylabel('Units', fontsize=12)\n",
    "    plt.xticks(rotation=45)\n",
    "    plt.tick_params(axis='x', labelsize=8)\n",
    "    plt.grid(True, linestyle='--', alpha=0.6)\n",
    "    plt.legend(loc='upper right', frameon=True, framealpha=0.9)\n",
    "    \n",
    "    # Limiter les xticks pour lisibilité\n",
    "    xtick_interval = 60  # afficher 1 tick tous les 60 jours\n",
    "    plt.xticks(ticks=range(0, len(total_demand), xtick_interval),\n",
    "            labels=total_demand.index[::xtick_interval], rotation=45)\n",
    "    plt.tight_layout()\n",
    "    plt.show()\n",
    "\n",
    "\n",
    "\n"
   ]
  },
  {
   "cell_type": "code",
   "execution_count": null,
   "metadata": {},
   "outputs": [],
   "source": []
  },
  {
   "cell_type": "code",
   "execution_count": 18,
   "metadata": {},
   "outputs": [],
   "source": [
    "def output(function_name: str, fill_rate: float, avg_inventory: float, ratio: float, output_csv: str):\n",
    "    \"\"\"\n",
    "    Update or create a line in the output CSV file for the given function name with the provided metrics.\n",
    "    \n",
    "    Parameters:\n",
    "        function_name (str): Name of the function.\n",
    "        fill_rate (float): Fill rate value.\n",
    "        avg_inventory (float): Average inventory value.\n",
    "        ratio (float): Ratio of days with perfect service.\n",
    "        output_csv (str): Path to the output CSV file.\n",
    "    \"\"\"\n",
    "    # Load the existing CSV file or create a new DataFrame if it doesn't exist\n",
    "    try:\n",
    "        df_output = pd.read_csv(output_csv, index_col='Function Name')\n",
    "    except FileNotFoundError:\n",
    "        df_output = pd.DataFrame(columns=['Function Name', 'Fill Rate', 'Avg Inventory', 'Ratio'])\n",
    "        df_output.set_index('Function Name', inplace=True)\n",
    "    \n",
    "    # Update or create the row for the given function name\n",
    "    df_output.loc[function_name] = [fill_rate, avg_inventory, ratio]\n",
    "    \n",
    "    # Save the updated DataFrame back to the CSV file\n",
    "    df_output.to_csv(output_csv)\n",
    "\n",
    "# Example usage\n",
    "output('FC_avg_2_days', 0.95, 1500, 0.85, 'output_metrics.csv')"
   ]
  },
  {
   "cell_type": "markdown",
   "metadata": {},
   "source": [
    "# Pipeline\n"
   ]
  },
  {
   "cell_type": "code",
   "execution_count": 49,
   "metadata": {},
   "outputs": [],
   "source": [
    "### DEBUG CELL\n",
    "df = load_data(data_path, pkl_path)\n",
    "df = scraping_high_zeroes_products(df)\n",
    "demand_matrix = preprocess_data(df)\n",
    "#demand_matrix = demand_matrix.iloc[:1, :]# A RETIRER\n",
    "_, n_days = demand_matrix.shape\n",
    "forecast_matrix = FC_avg_3_days(demand_matrix)\n",
    "safety_stock_matrix = SS_cst(demand_matrix, forecast_matrix, 0)\n",
    "up_to_level_matrix = up_to_level_fixed_X(demand_matrix, forecast_matrix, safety_stock_matrix, X=50, min_fill_rate=None)\n",
    "inventory_begin, inventory_end, T1, T2, sales, lost_sales = compute_stock(up_to_level_matrix.to_numpy(), demand_matrix.to_numpy(),3)\n",
    "fill_rate, avg_inventory, average_percentage_lost_sales = compute_results(demand_matrix, lost_sales, inventory_begin, inventory_end, n_days)"
   ]
  },
  {
   "cell_type": "code",
   "execution_count": 45,
   "metadata": {},
   "outputs": [],
   "source": [
    "def pipeline(forecast_func=None, \n",
    "             ss_func=None, ss_factor=None,\n",
    "             up_to_level_func=None, X=None, min_fill_rate=None,\n",
    "             compute_stock_func=None, order_rate=1,\n",
    "             plot= False):\n",
    "    df = load_data(data_path, pkl_path)\n",
    "    df = scraping_high_zeroes_products(df)\n",
    "    demand_matrix = preprocess_data(df)\n",
    "    #demand_matrix = demand_matrix.iloc[:1, :]# A RETIRER\n",
    "    _, n_days = demand_matrix.shape\n",
    "    forecast_matrix = forecast_func(demand_matrix)\n",
    "    safety_stock_matrix = ss_func(demand_matrix, forecast_matrix, ss_factor)\n",
    "    up_to_level_matrix = up_to_level_func(demand_matrix, forecast_matrix, safety_stock_matrix, X, min_fill_rate)\n",
    "    inventory_begin, inventory_end, _, _, _, lost_sales = compute_stock_func(up_to_level_matrix.to_numpy(), demand_matrix.to_numpy())\n",
    "    fill_rate, avg_inventory, perfect_service_days_ratio = compute_results(demand_matrix, lost_sales, inventory_begin, inventory_end, n_days)\n",
    "\n",
    "    if plot:\n",
    "        plot_stocks(demand_matrix, forecast_matrix, lost_sales, inventory_begin, inventory_end)\n",
    "        plot_smooth_n_days(demand_matrix, forecast_matrix, lost_sales, inventory_begin, inventory_end, 7)\n",
    "        plot_smooth_n_days(demand_matrix, forecast_matrix, lost_sales, inventory_begin, inventory_end, 30)\n",
    "\n",
    "    print(f\"Fill rate: {fill_rate * 100:.2f}%\")\n",
    "    print(f\"Average inventory: {avg_inventory}\")\n",
    "    print(f\"Average proportion of products not in stock: {perfect_service_days_ratio * 100:.2f}%\")"
   ]
  },
  {
   "cell_type": "code",
   "execution_count": 21,
   "metadata": {},
   "outputs": [
    {
     "name": "stderr",
     "output_type": "stream",
     "text": [
      "/home/onyx/.local/lib/python3.10/site-packages/numpy/core/fromnumeric.py:3643: FutureWarning: The behavior of DataFrame.std with axis=None is deprecated, in a future version this will reduce over both axes and return a scalar. To retain the old behavior, pass axis=0 (or do not pass axis)\n",
      "  return std(axis=axis, dtype=dtype, out=out, ddof=ddof, **kwargs)\n"
     ]
    },
    {
     "data": {
      "image/png": "[encoded data removed]",
      "text/plain": [
       "<Figure size 432x288 with 1 Axes>"
      ]
     },
     "metadata": {
      "needs_background": "light"
     },
     "output_type": "display_data"
    },
    {
     "name": "stdout",
     "output_type": "stream",
     "text": [
      "Fill rate: 96.15%\n",
      "Average inventory: 21366.0\n",
      "Average proportion of products not in stock: 3.97%\n"
     ]
    }
   ],
   "source": [
    "pipeline(forecast_func=FC_avg_3_days,                                       #forecast\n",
    "         ss_func=SS_on_forecast, ss_factor=0.3,                             #safety stock\n",
    "         up_to_level_func=up_to_level_normal_demand, min_fill_rate=0.99999, #up to level\n",
    "         compute_stock_func=compute_stock, order_rate=7)                    #compute stock"
   ]
  },
  {
   "cell_type": "code",
   "execution_count": 47,
   "metadata": {},
   "outputs": [
    {
     "name": "stdout",
     "output_type": "stream",
     "text": [
      "Fill rate: 86.99%\n",
      "Average inventory: 39449.0\n",
      "Average proportion of products not in stock: 4.57%\n"
     ]
    }
   ],
   "source": [
    "# (R,S) static: Up to level= Fixed S, Safety stock = 0, Variable S\n",
    "pipeline(forecast_func=FC_avg_3_days,                                       #forecast\n",
    "         ss_func=SS_cst, ss_factor=0,                                       #safety stock\n",
    "         up_to_level_func=up_to_level_fixed_X, X=50,                        #up to level\n",
    "         compute_stock_func=compute_stock, order_rate=7)                                  #compute stock"
   ]
  },
  {
   "cell_type": "code",
   "execution_count": 50,
   "metadata": {},
   "outputs": [
    {
     "name": "stdout",
     "output_type": "stream",
     "text": [
      "Fill rate: 97.45%\n",
      "Average inventory: 19913.0\n",
      "Average proportion of products not in stock: 2.99%\n"
     ]
    }
   ],
   "source": [
    "# (R,S) hybrid: Up to level= 3 days forecast, Safety stock= Fixed s, Variable s\n",
    "pipeline(forecast_func=FC_avg_3_days,                                       #forecast\n",
    "         ss_func=SS_cst, ss_factor=5,                                       #safety stock\n",
    "         up_to_level_func=up_to_level_3_next_days,                          #up to level\n",
    "         compute_stock_func=compute_stock, order_rate=7)      "
   ]
  },
  {
   "cell_type": "code",
   "execution_count": 51,
   "metadata": {},
   "outputs": [
    {
     "name": "stdout",
     "output_type": "stream",
     "text": [
      "Fill rate: 99.11%\n",
      "Average inventory: 23005.0\n",
      "Average proportion of products not in stock: 1.62%\n"
     ]
    }
   ],
   "source": [
    "# (R,S) dynamic: Up to level= 3 days forecast, Safety stock= X*4th day of fc, Variable X\n",
    "pipeline(forecast_func=FC_avg_3_days,                                       #forecast\n",
    "         ss_func=SS_on_forecast, ss_factor=1,                               #safety stock\n",
    "         up_to_level_func=up_to_level_3_next_days,                          #up to level\n",
    "         compute_stock_func=compute_stock, order_rate=7)                                  #compute stock"
   ]
  },
  {
   "cell_type": "code",
   "execution_count": null,
   "metadata": {},
   "outputs": [],
   "source": []
  },
  {
   "cell_type": "markdown",
   "metadata": {},
   "source": [
    "moy de produit par jour en rupture sur la durée à tester"
   ]
  }
 ],
 "metadata": {
  "kernelspec": {
   "display_name": "base",
   "language": "python",
   "name": "python3"
  },
  "language_info": {
   "codemirror_mode": {
    "name": "ipython",
    "version": 3
   },
   "file_extension": ".py",
   "mimetype": "text/x-python",
   "name": "python",
   "nbconvert_exporter": "python",
   "pygments_lexer": "ipython3",
   "version": "3.10.12"
  }
 },
 "nbformat": 4,
 "nbformat_minor": 2
}
